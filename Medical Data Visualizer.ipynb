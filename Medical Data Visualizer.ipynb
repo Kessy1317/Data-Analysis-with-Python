{
 "cells": [
  {
   "cell_type": "code",
   "execution_count": null,
   "metadata": {},
   "outputs": [],
   "source": [
    "import pandas as pd\n",
    "import seaborn as sns\n",
    "import matplotlib.pyplot as plt\n",
    "import numpy as np"
   ]
  },
  {
   "cell_type": "code",
   "execution_count": null,
   "metadata": {},
   "outputs": [],
   "source": [
    "'I was not able to get to the ONA starter code. Hope this is what was required from me.'"
   ]
  },
  {
   "cell_type": "code",
   "execution_count": null,
   "metadata": {},
   "outputs": [],
   "source": [
    "df = pd.read_csv('medical_examination.csv')\n",
    "\n",
    "df['overweight'] = ((df['weight'] / ((df['height'] / 100) ** 2)) > 25).astype(int)\n",
    "\n",
    "df['cholesterol'] = (df['cholesterol'] > 1).astype(int)\n",
    "df['gluc'] = (df['gluc'] > 1).astype(int)\n",
    "\n",
    "def draw_cat_plot():\n",
    "    '''\n",
    "    Draw the Categorical Plot showing counts of good (0) and bad (1)\n",
    "    outcomes for selected features, split by cardio in separate panels.\n",
    "    Returns the matplotlib Figure object.\n",
    "    '''\n",
    "    df_cat = pd.melt(\n",
    "        df,\n",
    "        id_vars=['cardio'],\n",
    "        value_vars=['cholesterol', 'gluc', 'smoke', 'alco', 'active', 'overweight']\n",
    "    )\n",
    "\n",
    "    df_cat = (\n",
    "        df_cat\n",
    "        .groupby(['cardio', 'variable', 'value'])\n",
    "        .size()\n",
    "        .reset_index(name='total')\n",
    "    )\n",
    "\n",
    "    g = sns.catplot(\n",
    "        data=df_cat,\n",
    "        x='variable', y='total', hue='value', col='cardio',\n",
    "        kind='bar', height=5, aspect=1\n",
    "    )\n",
    "    g.set_axis_labels('variable', 'total')\n",
    "    g._legend.set_title('value')\n",
    "\n",
    "    fig = g.fig\n",
    "\n",
    "    fig.savefig('catplot.png')\n",
    "    return fig\n",
    "\n",
    "\n",
    "def draw_heat_map():\n",
    "    '''\n",
    "    Draw a heatmap of the correlation matrix after cleaning the data\n",
    "    for physiological plausibility and outliers. Returns the Figure.\n",
    "    '''\n",
    "\n",
    "    df_heat = df[(df['ap_lo'] <= df['ap_hi']) &\n",
    "                 (df['height'] >= df['height'].quantile(0.025)) &\n",
    "                 (df['height'] <= df['height'].quantile(0.975)) &\n",
    "                 (df['weight'] >= df['weight'].quantile(0.025)) &\n",
    "                 (df['weight'] <= df['weight'].quantile(0.975))]\n",
    "\n",
    "    corr = df_heat.corr(numeric_only=True)\n",
    "\n",
    "    mask = np.triu(np.ones_like(corr, dtype=bool))\n",
    "\n",
    "    fig, ax = plt.subplots(figsize=(12, 10))\n",
    "\n",
    "    sns.heatmap(\n",
    "        corr,\n",
    "        mask=mask,\n",
    "        annot=True,\n",
    "        fmt='.1f',\n",
    "        square=True,\n",
    "        center=0.0,\n",
    "        linewidths=.5,\n",
    "        cbar_kws={'shrink': .5}\n",
    "    )\n",
    "\n",
    "    fig.savefig('heatmap.png')\n",
    "    return fig\n"
   ]
  },
  {
   "cell_type": "code",
   "execution_count": null,
   "metadata": {},
   "outputs": [],
   "source": [
    "if __name__ == '__main__':\n",
    "\n",
    "    draw_cat_plot()\n",
    "    draw_heat_map()"
   ]
  }
 ],
 "metadata": {
  "kernelspec": {
   "display_name": "Python 3",
   "language": "python",
   "name": "python3"
  },
  "language_info": {
   "codemirror_mode": {
    "name": "ipython",
    "version": 3
   },
   "file_extension": ".py",
   "mimetype": "text/x-python",
   "name": "python",
   "nbconvert_exporter": "python",
   "pygments_lexer": "ipython3",
   "version": "3.13.1"
  }
 },
 "nbformat": 4,
 "nbformat_minor": 2
}
