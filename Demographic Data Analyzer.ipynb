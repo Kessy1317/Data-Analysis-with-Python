{
 "cells": [
  {
   "cell_type": "code",
   "execution_count": 1,
   "metadata": {},
   "outputs": [],
   "source": [
    "import pandas as pd"
   ]
  },
  {
   "cell_type": "code",
   "execution_count": 2,
   "metadata": {},
   "outputs": [],
   "source": [
    "def calculate_demographic_data(print_data=True):\n",
    "    # Read data\n",
    "    df = pd.read_csv(\"adult.data.csv\")\n",
    "\n",
    "    # 1. How many people of each race are represented in this dataset\n",
    "    race_count = df['race'].value_counts()\n",
    "\n",
    "    # 2. Average age of men\n",
    "    average_age_men = round(df[df['sex'] == 'Male']['age'].mean(), 1)\n",
    "\n",
    "    # 3. Percentage with Bachelors degree\n",
    "    percentage_bachelors = round((df['education'].value_counts(normalize=True)['Bachelors'] * 100), 1)\n",
    "\n",
    "    # 4. Advanced education (Bachelors, Masters, Doctorate)\n",
    "    higher_education = df['education'].isin(['Bachelors', 'Masters', 'Doctorate'])\n",
    "    lower_education = ~higher_education\n",
    "\n",
    "    # % with salary >50K\n",
    "    higher_education_rich = round((df[higher_education]['salary'] == '>50K').mean() * 100, 1)\n",
    "    lower_education_rich = round((df[lower_education]['salary'] == '>50K').mean() * 100, 1)\n",
    "\n",
    "    # 5. Minimum hours worked per week\n",
    "    min_work_hours = df['hours-per-week'].min()\n",
    "\n",
    "    # 6. % of people who work min hours and earn >50K\n",
    "    num_min_workers = df[df['hours-per-week'] == min_work_hours]\n",
    "    rich_percentage = round((num_min_workers['salary'] == '>50K').mean() * 100, 1)\n",
    "\n",
    "    # 7. Country with highest % of >50K earners\n",
    "    country_earnings = df.groupby('native-country')['salary'].value_counts(normalize=True).unstack()['>50K'] * 100\n",
    "    highest_earning_country = country_earnings.idxmax()\n",
    "    highest_earning_country_percentage = round(country_earnings.max(), 1)\n",
    "\n",
    "    # 8. Most popular occupation for >50K in India\n",
    "    top_IN_occupation = df[(df['native-country'] == 'India') & (df['salary'] == '>50K')]['occupation'].mode()[0]\n",
    "\n",
    "    if print_data:\n",
    "        print(\"Number of each race:\\n\", race_count) \n",
    "        print(\"Average age of men:\", average_age_men)\n",
    "        print(f\"Percentage with Bachelors degrees: {percentage_bachelors}%\")\n",
    "        print(f\"Percentage with higher education that earn >50K: {higher_education_rich}%\")\n",
    "        print(f\"Percentage without higher education that earn >50K: {lower_education_rich}%\")\n",
    "        print(f\"Min work time: {min_work_hours} hours/week\")\n",
    "        print(f\"Percentage of rich among those who work fewest hours: {rich_percentage}%\")\n",
    "        print(\"Country with highest percentage of rich:\", highest_earning_country)\n",
    "        print(\"Highest percentage of rich people in country:\", highest_earning_country_percentage)\n",
    "        print(\"Top occupations in India:\", top_IN_occupation)\n",
    "\n",
    "    return {\n",
    "        'race_count': race_count,\n",
    "        'average_age_men': average_age_men,\n",
    "        'percentage_bachelors': percentage_bachelors,\n",
    "        'higher_education_rich': higher_education_rich,\n",
    "        'lower_education_rich': lower_education_rich,\n",
    "        'min_work_hours': min_work_hours,\n",
    "        'rich_percentage': rich_percentage,\n",
    "        'highest_earning_country': highest_earning_country,\n",
    "        'highest_earning_country_percentage': highest_earning_country_percentage,\n",
    "        'top_IN_occupation': top_IN_occupation\n",
    "    }\n"
   ]
  },
  {
   "cell_type": "code",
   "execution_count": null,
   "metadata": {},
   "outputs": [],
   "source": []
  }
 ],
 "metadata": {
  "kernelspec": {
   "display_name": "Python 3",
   "language": "python",
   "name": "python3"
  },
  "language_info": {
   "codemirror_mode": {
    "name": "ipython",
    "version": 3
   },
   "file_extension": ".py",
   "mimetype": "text/x-python",
   "name": "python",
   "nbconvert_exporter": "python",
   "pygments_lexer": "ipython3",
   "version": "3.13.1"
  }
 },
 "nbformat": 4,
 "nbformat_minor": 2
}
