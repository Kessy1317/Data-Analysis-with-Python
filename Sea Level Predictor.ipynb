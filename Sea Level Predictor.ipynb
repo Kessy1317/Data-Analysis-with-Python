{
 "cells": [
  {
   "cell_type": "code",
   "execution_count": 1,
   "metadata": {},
   "outputs": [],
   "source": [
    "import pandas as pd\n",
    "import matplotlib.pyplot as plt\n",
    "from scipy.stats import linregress"
   ]
  },
  {
   "cell_type": "code",
   "execution_count": null,
   "metadata": {},
   "outputs": [],
   "source": [
    "df = pd.read_csv(\"epa-sea-level.csv\")\n",
    "\n",
    "plt.figure(figsize=(10, 6))\n",
    "plt.scatter(df[\"Year\"], df[\"CSIRO Adjusted Sea Level\"], s=10)\n",
    "plt.xlabel(\"Year\")\n",
    "plt.ylabel(\"Sea Level (inches)\")\n",
    "plt.title(\"Rise in Sea Level\")\n",
    "\n",
    "slope, intercept, r_value, p_value, std_err = linregress(df[\"Year\"], df[\"CSIRO Adjusted Sea Level\"])\n",
    "x_pred = pd.Series(range(1880, 2051))\n",
    "y_pred = intercept + slope * x_pred\n",
    "plt.plot(x_pred, y_pred, 'r', label=\"Best fit: 1880–2050\")\n",
    "\n",
    "df_recent = df[df[\"Year\"] >= 2000]\n",
    "slope_recent, intercept_recent, r_value_recent, p_value_recent, std_err_recent = linregress(\n",
    "    df_recent[\"Year\"], df_recent[\"CSIRO Adjusted Sea Level\"]\n",
    ")\n",
    "x_recent = pd.Series(range(2000, 2051))\n",
    "y_recent = intercept_recent + slope_recent * x_recent\n",
    "plt.plot(x_recent, y_recent, 'g', label=\"Best fit: 2000–2050\")\n",
    "\n",
    "plt.legend()\n",
    "\n",
    "plt.savefig(\"sea_level_plot.png\")\n",
    "plt.show()\n"
   ]
  }
 ],
 "metadata": {
  "kernelspec": {
   "display_name": "Python 3",
   "language": "python",
   "name": "python3"
  },
  "language_info": {
   "codemirror_mode": {
    "name": "ipython",
    "version": 3
   },
   "file_extension": ".py",
   "mimetype": "text/x-python",
   "name": "python",
   "nbconvert_exporter": "python",
   "pygments_lexer": "ipython3",
   "version": "3.13.1"
  }
 },
 "nbformat": 4,
 "nbformat_minor": 2
}
